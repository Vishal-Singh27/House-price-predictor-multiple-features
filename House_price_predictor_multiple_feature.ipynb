{
 "cells": [
  {
   "metadata": {},
   "cell_type": "markdown",
   "source": [
    "\n",
    "# House Predictor (Multiple feature)\n",
    "This is a basic project which can predict house prices using linear regression"
   ],
   "id": "89cffb12ef2b7209"
  },
  {
   "metadata": {},
   "cell_type": "markdown",
   "source": "First lets import the libraries",
   "id": "455e46814510ded9"
  },
  {
   "metadata": {
    "ExecuteTime": {
     "end_time": "2025-04-09T18:04:51.338635Z",
     "start_time": "2025-04-09T18:04:51.330634Z"
    }
   },
   "cell_type": "code",
   "source": [
    "import matplotlib.pyplot as plt\n",
    "import numpy as np\n",
    "import pandas as pd"
   ],
   "id": "649eba0492a5124d",
   "outputs": [],
   "execution_count": 114
  },
  {
   "metadata": {},
   "cell_type": "markdown",
   "source": "Making the cost function",
   "id": "28a6935496e9891a"
  },
  {
   "metadata": {
    "ExecuteTime": {
     "end_time": "2025-04-09T18:04:51.346940Z",
     "start_time": "2025-04-09T18:04:51.344726Z"
    }
   },
   "cell_type": "code",
   "source": [
    "def compute_cost(X, y, w, b):\n",
    "    cost = 0\n",
    "    m = X.shape[0]\n",
    "    n = X.shape[1]\n",
    "\n",
    "    for i in range(m):\n",
    "        cost += (((np.dot(w, X[i]) + b) - y[i]) ** 2)\n",
    "\n",
    "    return cost / (2 * m)"
   ],
   "id": "1584683311e00f7a",
   "outputs": [],
   "execution_count": 115
  },
  {
   "metadata": {},
   "cell_type": "markdown",
   "source": "Gradient Descent time!!",
   "id": "ed0e449a787b245f"
  },
  {
   "metadata": {
    "ExecuteTime": {
     "end_time": "2025-04-09T18:04:51.361005Z",
     "start_time": "2025-04-09T18:04:51.357382Z"
    }
   },
   "cell_type": "code",
   "source": [
    "def gradient_descent(X, y, w=None, b=0, alpha=0.1, iterations=1000):\n",
    "    m = X.shape[0]\n",
    "    n = X.shape[1]\n",
    "\n",
    "    if w == None:\n",
    "        w = np.zeros(n)\n",
    "\n",
    "    for iteration in range(iterations):\n",
    "        dj_dw = np.zeros(n)\n",
    "        dj_db = 0\n",
    "        # Computing gradients\n",
    "        for i in range(m):\n",
    "            cost = (np.dot(w, X[i]) + b) - y[i]\n",
    "\n",
    "            dj_dw += cost * X[i]\n",
    "            dj_db += cost\n",
    "        dj_dw, dj_db = dj_dw / m, dj_db / m\n",
    "\n",
    "        w -= (alpha * dj_dw)\n",
    "        b -= (alpha * dj_db)\n",
    "\n",
    "    return w, b"
   ],
   "id": "f5699037e46f8628",
   "outputs": [],
   "execution_count": 116
  },
  {
   "metadata": {},
   "cell_type": "markdown",
   "source": "Now lets code the data we gonna train the model with",
   "id": "fb7255e192cb5982"
  },
  {
   "metadata": {
    "ExecuteTime": {
     "end_time": "2025-04-09T18:04:51.376352Z",
     "start_time": "2025-04-09T18:04:51.372257Z"
    }
   },
   "cell_type": "code",
   "source": [
    "data = {\n",
    "    \"House Size\": [10, 20, 30, 40, 70],\n",
    "    \"price\": [100, 200, 350, 600, 1000]\n",
    "}\n",
    "\n",
    "df = pd.DataFrame(data)\n",
    "\n",
    "X = np.array(df['House Size'])\n",
    "X = np.column_stack((X, X ** 2, X ** 3, X ** 4))\n",
    "y = np.array(df['price'])\n",
    "\n",
    "# Scaling X and y\n",
    "X_scaled = (X - np.mean(X, axis=0)) / np.std(X, axis=0)\n",
    "y_scaled = (y - np.mean(y, axis=0)) / np.std(y, axis=0)\n",
    "\n",
    "print(X_scaled, y_scaled)"
   ],
   "id": "a90903d60db213d3",
   "outputs": [
    {
     "name": "stdout",
     "output_type": "stream",
     "text": [
      "[[-1.16554303 -0.85254814 -0.67872643 -0.59176401]\n",
      " [-0.6799001  -0.67973433 -0.6244903  -0.57562499]\n",
      " [-0.19425717 -0.39171131 -0.47727795 -0.50568924]\n",
      " [ 0.29138576  0.01152092 -0.19060126 -0.3174007 ]\n",
      " [ 1.74831455  1.91247286  1.97109594  1.99047894]] [-1.08530393 -0.77521709 -0.31008684  0.46513025  1.7054776 ]\n"
     ]
    }
   ],
   "execution_count": 117
  },
  {
   "metadata": {},
   "cell_type": "markdown",
   "source": "Now lets train the model with the data",
   "id": "8dcf0b26f018816"
  },
  {
   "metadata": {
    "ExecuteTime": {
     "end_time": "2025-04-09T18:04:51.572547Z",
     "start_time": "2025-04-09T18:04:51.468744Z"
    }
   },
   "cell_type": "code",
   "source": [
    "w, b = gradient_descent(X_scaled, y_scaled, b=0, alpha=1e-1, iterations=10000)\n",
    "print(w, b)"
   ],
   "id": "a24245fccb2306a7",
   "outputs": [
    {
     "name": "stdout",
     "output_type": "stream",
     "text": [
      "[ 0.2011622   1.58081941  0.39192536 -1.22365027] 1.0880185641326551e-16\n"
     ]
    }
   ],
   "execution_count": 118
  },
  {
   "metadata": {},
   "cell_type": "markdown",
   "source": "Now let's visualize the models predictions",
   "id": "9a7c96601a30a9b1"
  },
  {
   "metadata": {
    "ExecuteTime": {
     "end_time": "2025-04-09T18:04:51.686149Z",
     "start_time": "2025-04-09T18:04:51.585453Z"
    }
   },
   "cell_type": "code",
   "source": [
    "m = X.shape[0]\n",
    "\n",
    "y_pred = np.dot(X_scaled, w) + b\n",
    "y_pred_unscaled = y_pred * np.std(y) + np.mean(y)\n",
    "\n",
    "plt.scatter(X[:, 0], y)\n",
    "plt.xlabel(\"House size in 1000's of sq ft\")\n",
    "plt.ylabel(\"Price in 1000's\")\n",
    "plt.plot(X[:, 0], y_pred_unscaled)\n",
    "print(X)\n",
    "print(w, b)"
   ],
   "id": "b98111be54d3270",
   "outputs": [
    {
     "name": "stdout",
     "output_type": "stream",
     "text": [
      "[[      10      100     1000    10000]\n",
      " [      20      400     8000   160000]\n",
      " [      30      900    27000   810000]\n",
      " [      40     1600    64000  2560000]\n",
      " [      70     4900   343000 24010000]]\n",
      "[ 0.2011622   1.58081941  0.39192536 -1.22365027] 1.0880185641326551e-16\n"
     ]
    },
    {
     "data": {
      "text/plain": [
       "<Figure size 640x480 with 1 Axes>"
      ],
      "image/png": "[encoded data removed]"
     },
     "metadata": {},
     "output_type": "display_data"
    }
   ],
   "execution_count": 119
  }
 ],
 "metadata": {
  "kernelspec": {
   "name": "python3",
   "language": "python",
   "display_name": "Python 3 (ipykernel)"
  }
 },
 "nbformat": 5,
 "nbformat_minor": 9
}
